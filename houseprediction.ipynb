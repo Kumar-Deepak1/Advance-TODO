{
  "nbformat": 4,
  "nbformat_minor": 0,
  "metadata": {
    "colab": {
      "provenance": [],
      "name": "houseprediction.ipynb",
      "authorship_tag": "ABX9TyN6M+dhY3lln8Y8qO46mKGg",
      "include_colab_link": true
    },
    "kernelspec": {
      "name": "python3",
      "display_name": "Python 3"
    },
    "language_info": {
      "name": "python"
    }
  },
  "cells": [
    {
      "cell_type": "markdown",
      "metadata": {
        "id": "view-in-github",
        "colab_type": "text"
      },
      "source": [
        "<a href=\"https://colab.research.google.com/github/Kumar-Deepak1/Advance-TODO/blob/main/houseprediction.ipynb\" target=\"_parent\"><img src=\"https://colab.research.google.com/assets/colab-badge.svg\" alt=\"Open In Colab\"/></a>"
      ]
    },
    {
      "cell_type": "code",
      "execution_count": null,
      "metadata": {
        "colab": {
          "base_uri": "https://localhost:8080/"
        },
        "id": "c-KYGkagiiwn",
        "outputId": "8010c8a3-9ce3-40c7-d697-f0249d09f6af"
      },
      "outputs": [
        {
          "output_type": "stream",
          "name": "stdout",
          "text": [
            "--- Enter House Details for Price Prediction ---\n",
            "Enter the area of the house (in sq. ft.): 2000\n",
            "Enter the number of bedrooms: 5\n",
            "Enter the number of bathrooms: 5\n",
            "Enter the number of stories: 6\n",
            "Is the house on the main road? (yes/no): yes\n",
            "Does the house have a guest room? (yes/no): yes\n",
            "Does the house have a basement? (yes/no): yes\n",
            "Does the house have hot water heating? (yes/no): yes\n",
            "Does the house have air conditioning? (yes/no): yes\n",
            "Enter the number of parking spaces: 5\n",
            "Is the house in a preferred area? (yes/no): yes\n",
            "Enter the furnishing status (furnished/semi-furnished/unfurnished): unfurnished\n",
            "\n",
            "--- 🏠 Predicted House Price ---\n",
            "The estimated price for the house is: **₹13,166,572.55**\n"
          ]
        },
        {
          "output_type": "stream",
          "name": "stderr",
          "text": [
            "/usr/local/lib/python3.11/dist-packages/sklearn/utils/validation.py:2739: UserWarning: X does not have valid feature names, but LinearRegression was fitted with feature names\n",
            "  warnings.warn(\n"
          ]
        }
      ],
      "source": [
        "import pandas as pd\n",
        "from sklearn.model_selection import train_test_split\n",
        "from sklearn.linear_model import LinearRegression\n",
        "import numpy as np\n",
        "\n",
        "# Load the dataset\n",
        "df = pd.read_csv('Housing.csv')\n",
        "\n",
        "# --- 1. Data Preprocessing ---\n",
        "# Convert categorical variables to numerical\n",
        "categorical_cols = ['mainroad', 'guestroom', 'basement', 'hotwaterheating', 'airconditioning', 'prefarea']\n",
        "for col in categorical_cols:\n",
        "    df[col] = df[col].apply(lambda x: 1 if x == 'yes' else 0)\n",
        "\n",
        "# One-hot encode 'furnishingstatus'\n",
        "furnishing_status = pd.get_dummies(df['furnishingstatus'], drop_first=True, dtype=int)\n",
        "df = pd.concat([df, furnishing_status], axis=1)\n",
        "df.drop('furnishingstatus', axis=1, inplace=True)\n",
        "\n",
        "\n",
        "# --- 2. Feature Selection and Data Splitting ---\n",
        "features = ['area', 'bedrooms', 'bathrooms', 'stories', 'mainroad', 'guestroom', 'basement', 'hotwaterheating', 'airconditioning', 'parking', 'prefarea', 'semi-furnished', 'unfurnished']\n",
        "X = df[features]\n",
        "y = df['price']\n",
        "\n",
        "# --- 3. Model Training ---\n",
        "# We train on the entire dataset to provide predictions on new user data\n",
        "model = LinearRegression()\n",
        "model.fit(X, y)\n",
        "\n",
        "# --- 4. User Input for Prediction ---\n",
        "print(\"--- Enter House Details for Price Prediction ---\")\n",
        "\n",
        "# Function to get validated user input\n",
        "def get_yes_no_input(prompt):\n",
        "    while True:\n",
        "        try:\n",
        "            val = input(prompt).lower()\n",
        "            if val in ['yes', 'no']:\n",
        "                return 1 if val == 'yes' else 0\n",
        "            else:\n",
        "                print(\"Invalid input. Please enter 'yes' or 'no'.\")\n",
        "        except Exception as e:\n",
        "            print(f\"An error occurred: {e}\")\n",
        "\n",
        "try:\n",
        "    # Gather input from the user\n",
        "    area = int(input(\"Enter the area of the house (in sq. ft.): \"))\n",
        "    bedrooms = int(input(\"Enter the number of bedrooms: \"))\n",
        "    bathrooms = int(input(\"Enter the number of bathrooms: \"))\n",
        "    stories = int(input(\"Enter the number of stories: \"))\n",
        "    mainroad = get_yes_no_input(\"Is the house on the main road? (yes/no): \")\n",
        "    guestroom = get_yes_no_input(\"Does the house have a guest room? (yes/no): \")\n",
        "    basement = get_yes_no_input(\"Does the house have a basement? (yes/no): \")\n",
        "    hotwater = get_yes_no_input(\"Does the house have hot water heating? (yes/no): \")\n",
        "    aircon = get_yes_no_input(\"Does the house have air conditioning? (yes/no): \")\n",
        "    parking = int(input(\"Enter the number of parking spaces: \"))\n",
        "    prefarea = get_yes_no_input(\"Is the house in a preferred area? (yes/no): \")\n",
        "\n",
        "    furnishing = input(\"Enter the furnishing status (furnished/semi-furnished/unfurnished): \").lower()\n",
        "    semi_furnished = 1 if furnishing == 'semi-furnished' else 0\n",
        "    unfurnished = 1 if furnishing == 'unfurnished' else 0\n",
        "\n",
        "    # --- 5. Make Prediction ---\n",
        "    # Create a numpy array from the user input in the correct order\n",
        "    user_input = np.array([[area, bedrooms, bathrooms, stories, mainroad, guestroom, basement, hotwater, aircon, parking, prefarea, semi_furnished, unfurnished]])\n",
        "\n",
        "    # Predict the price\n",
        "    predicted_price = model.predict(user_input)\n",
        "\n",
        "    print(\"\\n--- 🏠 Predicted House Price ---\")\n",
        "    print(f\"The estimated price for the house is: **₹{predicted_price[0]:,.2f}**\")\n",
        "\n",
        "except ValueError:\n",
        "    print(\"\\nInvalid input. Please enter a valid number for numerical fields.\")\n",
        "except Exception as e:\n",
        "    print(f\"An error occurred: {e}\")"
      ]
    }
  ]
}